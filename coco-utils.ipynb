{
 "cells": [
  {
   "cell_type": "code",
   "execution_count": 1,
   "metadata": {
    "execution": {
     "iopub.execute_input": "2024-05-09T11:59:02.174088Z",
     "iopub.status.busy": "2024-05-09T11:59:02.173596Z",
     "iopub.status.idle": "2024-05-09T11:59:02.245074Z",
     "shell.execute_reply": "2024-05-09T11:59:02.244298Z",
     "shell.execute_reply.started": "2024-05-09T11:59:02.174046Z"
    }
   },
   "outputs": [],
   "source": [
    "%load_ext autoreload\n",
    "%autoreload 2"
   ]
  },
  {
   "cell_type": "code",
   "execution_count": 2,
   "metadata": {
    "execution": {
     "iopub.execute_input": "2024-05-09T11:59:09.135766Z",
     "iopub.status.busy": "2024-05-09T11:59:09.135240Z",
     "iopub.status.idle": "2024-05-09T11:59:09.177611Z",
     "shell.execute_reply": "2024-05-09T11:59:09.173474Z",
     "shell.execute_reply.started": "2024-05-09T11:59:09.135725Z"
    }
   },
   "outputs": [],
   "source": [
    "import os\n",
    "import shutil\n",
    "import random"
   ]
  },
  {
   "cell_type": "code",
   "execution_count": 28,
   "metadata": {
    "execution": {
     "iopub.execute_input": "2024-05-09T12:26:26.498729Z",
     "iopub.status.busy": "2024-05-09T12:26:26.498008Z",
     "iopub.status.idle": "2024-05-09T12:26:26.537873Z",
     "shell.execute_reply": "2024-05-09T12:26:26.531712Z",
     "shell.execute_reply.started": "2024-05-09T12:26:26.498682Z"
    }
   },
   "outputs": [],
   "source": [
    "def sample_images_and_masks(images_dir, masks_dir, output_images_dir, output_masks_dir, size_limit_mbs):\n",
    "    # Convert size limit from MB to bytes\n",
    "    size_limit_bytes = size_limit_mbs * 1024 * 1024\n",
    "\n",
    "    # Create output directories if they don't exist\n",
    "    os.makedirs(output_images_dir, exist_ok=True)\n",
    "    os.makedirs(output_masks_dir, exist_ok=True)\n",
    "\n",
    "    # Get list of image filenames\n",
    "    image_filenames = os.listdir(images_dir)\n",
    "    random.shuffle(image_filenames)\n",
    "\n",
    "    # Function to get size of a directory\n",
    "    def get_directory_size(directory):\n",
    "        total_size = 0\n",
    "        for dirpath, _, filenames in os.walk(directory):\n",
    "            for filename in filenames:\n",
    "                filepath = os.path.join(dirpath, filename)\n",
    "                total_size += os.path.getsize(filepath)\n",
    "        return total_size\n",
    "\n",
    "    # Initialize total size\n",
    "    total_size = get_directory_size(output_images_dir)\n",
    "\n",
    "    # Sample files until the total size exceeds the size limit\n",
    "    for image_filename in image_filenames:\n",
    "        if total_size >= size_limit_bytes:\n",
    "            break\n",
    "\n",
    "        # Construct paths for image and mask\n",
    "        image_path = os.path.join(images_dir, image_filename)\n",
    "        mask_path = os.path.join(masks_dir, image_filename)\n",
    "\n",
    "        # Check if image path exists\n",
    "        if not os.path.isfile(image_path):\n",
    "            print(f\"Image not found: {image_path}\")\n",
    "            continue\n",
    "\n",
    "        # Check if mask path exists\n",
    "        if not os.path.isfile(mask_path):\n",
    "            print(f\"Mask not found: {mask_path}\")\n",
    "            continue\n",
    "\n",
    "        # Get size of image and mask\n",
    "        image_size = os.path.getsize(image_path)\n",
    "        mask_size = os.path.getsize(mask_path)\n",
    "\n",
    "        # Check if adding the image and mask would exceed the size limit\n",
    "        if total_size + image_size + mask_size > size_limit_bytes:\n",
    "            break\n",
    "\n",
    "        # Copy image and mask to output directories\n",
    "        shutil.copy(image_path, output_images_dir)\n",
    "        shutil.copy(mask_path, output_masks_dir)\n",
    "\n",
    "        # Update total size\n",
    "        total_size += image_size + mask_size\n",
    "\n",
    "    print(\"Sampling completed.\")"
   ]
  },
  {
   "cell_type": "code",
   "execution_count": 7,
   "metadata": {
    "execution": {
     "iopub.execute_input": "2024-05-09T12:03:23.734920Z",
     "iopub.status.busy": "2024-05-09T12:03:23.734073Z",
     "iopub.status.idle": "2024-05-09T12:03:24.677463Z",
     "shell.execute_reply": "2024-05-09T12:03:24.675806Z",
     "shell.execute_reply.started": "2024-05-09T12:03:23.734920Z"
    }
   },
   "outputs": [
    {
     "name": "stdout",
     "output_type": "stream",
     "text": [
      "/notebooks/continual-learning\n"
     ]
    }
   ],
   "source": [
    "!pwd"
   ]
  },
  {
   "cell_type": "code",
   "execution_count": 35,
   "metadata": {
    "execution": {
     "iopub.execute_input": "2024-05-09T12:34:18.098429Z",
     "iopub.status.busy": "2024-05-09T12:34:18.098078Z",
     "iopub.status.idle": "2024-05-09T12:34:23.281875Z",
     "shell.execute_reply": "2024-05-09T12:34:23.277254Z",
     "shell.execute_reply.started": "2024-05-09T12:34:18.098402Z"
    }
   },
   "outputs": [
    {
     "name": "stdout",
     "output_type": "stream",
     "text": [
      "Sampling completed.\n"
     ]
    }
   ],
   "source": [
    "sample_images_and_masks(\n",
    "    images_dir=\"../data/CaDISv2/train\",\n",
    "    masks_dir=\"../data/final_cadisv2_cataract1k_jsons/cadv2-masks/train\",\n",
    "    output_images_dir=\"../data/cadis_random64MB/train\",\n",
    "    output_masks_dir=\"../data/cadis_random64MB/train_masks\",\n",
    "    size_limit_mbs=64  # 32MB size limit\n",
    ")"
   ]
  },
  {
   "cell_type": "code",
   "execution_count": 2,
   "metadata": {},
   "outputs": [],
   "source": [
    "from utils.coco_utils import COCOUtils"
   ]
  },
  {
   "cell_type": "code",
   "execution_count": null,
   "metadata": {},
   "outputs": [],
   "source": []
  },
  {
   "cell_type": "markdown",
   "metadata": {},
   "source": [
    "# Copy images wrt coco-json files\n"
   ]
  },
  {
   "cell_type": "markdown",
   "metadata": {},
   "source": [
    "## Copy Train"
   ]
  },
  {
   "cell_type": "code",
   "execution_count": 9,
   "metadata": {},
   "outputs": [
    {
     "name": "stdout",
     "output_type": "stream",
     "text": [
      "loading annotations into memory...\n",
      "Done (t=0.05s)\n",
      "creating index...\n",
      "index created!\n",
      "Images copied successfully.\n"
     ]
    }
   ],
   "source": [
    "from utils.coco_utils import COCOUtils\n",
    "COCOUtils.copy_images_from_coco(\"./data/catract-1k/cataract1k-updated-jsons/train/train_cataract1k_annotations.json\", \n",
    "                                \"./data/catract-1k/train\", \n",
    "                                \"./data/catract-1k/pictures-combined\")\n",
    "\n"
   ]
  },
  {
   "cell_type": "markdown",
   "metadata": {},
   "source": [
    "## Copy Val"
   ]
  },
  {
   "cell_type": "code",
   "execution_count": 10,
   "metadata": {},
   "outputs": [
    {
     "name": "stdout",
     "output_type": "stream",
     "text": [
      "loading annotations into memory...\n",
      "Done (t=0.01s)\n",
      "creating index...\n",
      "index created!\n",
      "Images copied successfully.\n"
     ]
    }
   ],
   "source": [
    "from utils.coco_utils import COCOUtils\n",
    "COCOUtils.copy_images_from_coco(\"./data/catract-1k/cataract1k-updated-jsons/val/val_cataract1k_annotations.json\", \n",
    "                                \"./data/catract-1k/val\", \n",
    "                                \"./data/catract-1k/pictures-combined\")"
   ]
  },
  {
   "cell_type": "markdown",
   "metadata": {},
   "source": [
    "## Copy Test"
   ]
  },
  {
   "cell_type": "code",
   "execution_count": 11,
   "metadata": {},
   "outputs": [
    {
     "name": "stdout",
     "output_type": "stream",
     "text": [
      "loading annotations into memory...\n",
      "Done (t=0.01s)\n",
      "creating index...\n",
      "index created!\n",
      "Images copied successfully.\n"
     ]
    }
   ],
   "source": [
    "from utils.coco_utils import COCOUtils\n",
    "COCOUtils.copy_images_from_coco(\"./data/catract-1k/cataract1k-updated-jsons/test/test_cataract1k_annotations.json\", \n",
    "                                \"./data/catract-1k/test\", \n",
    "                                \"./data/catract-1k/pictures-combined\")"
   ]
  },
  {
   "cell_type": "code",
   "execution_count": 7,
   "metadata": {},
   "outputs": [
    {
     "name": "stdout",
     "output_type": "stream",
     "text": [
      "loading annotations into memory...\n",
      "Done (t=0.20s)\n",
      "creating index...\n",
      "index created!\n",
      "Total size of sampled images: 9.831022262573242 MB\n",
      "Number of sampled images: 16\n"
     ]
    }
   ],
   "source": [
    "original_annotation_file = 'data/cadis/training.json'\n",
    "output_directory = 'sampled_images'\n",
    "cocoutils = COCOUtils(original_annotation_file, output_directory)\n",
    "\n",
    "target_size_mb = 10  # Example target size in MB\n",
    "\n",
    "# Call the random_sample method to perform random sampling\n",
    "cocoutils.random_sample(target_size_mb, \"data/cadis/training\")"
   ]
  },
  {
   "cell_type": "code",
   "execution_count": null,
   "metadata": {},
   "outputs": [],
   "source": []
  },
  {
   "cell_type": "code",
   "execution_count": 2,
   "metadata": {},
   "outputs": [],
   "source": [
    "import json\n",
    "import os\n",
    "import shutil"
   ]
  },
  {
   "cell_type": "code",
   "execution_count": 1,
   "metadata": {},
   "outputs": [
    {
     "ename": "NameError",
     "evalue": "name 'json' is not defined",
     "output_type": "error",
     "traceback": [
      "\u001b[0;31m---------------------------------------------------------------------------\u001b[0m",
      "\u001b[0;31mNameError\u001b[0m                                 Traceback (most recent call last)",
      "Cell \u001b[0;32mIn[1], line 2\u001b[0m\n\u001b[1;32m      1\u001b[0m \u001b[38;5;28;01mwith\u001b[39;00m \u001b[38;5;28mopen\u001b[39m(\u001b[38;5;124m\"\u001b[39m\u001b[38;5;124m./data/cadis/validation.json\u001b[39m\u001b[38;5;124m\"\u001b[39m, \u001b[38;5;124m\"\u001b[39m\u001b[38;5;124mr\u001b[39m\u001b[38;5;124m\"\u001b[39m) \u001b[38;5;28;01mas\u001b[39;00m file:\n\u001b[0;32m----> 2\u001b[0m     data \u001b[38;5;241m=\u001b[39m \u001b[43mjson\u001b[49m\u001b[38;5;241m.\u001b[39mload(file)\n",
      "\u001b[0;31mNameError\u001b[0m: name 'json' is not defined"
     ]
    }
   ],
   "source": [
    "with open(\"./data/cadis/validation.json\", \"r\") as file:\n",
    "    data = json.load(file)"
   ]
  },
  {
   "cell_type": "code",
   "execution_count": 5,
   "metadata": {},
   "outputs": [
    {
     "name": "stdout",
     "output_type": "stream",
     "text": [
      "loading annotations into memory...\n"
     ]
    },
    {
     "ename": "FileNotFoundError",
     "evalue": "[Errno 2] No such file or directory: '/Users/anar/Desktop/TUM/summer24/di-lab/code/continual-learning/sampled_images/coco1.json'",
     "output_type": "error",
     "traceback": [
      "\u001b[0;31m---------------------------------------------------------------------------\u001b[0m",
      "\u001b[0;31mFileNotFoundError\u001b[0m                         Traceback (most recent call last)",
      "Cell \u001b[0;32mIn[5], line 1\u001b[0m\n\u001b[0;32m----> 1\u001b[0m \u001b[43mCOCOUtils\u001b[49m\u001b[38;5;241;43m.\u001b[39;49m\u001b[43mmerge_coco_jsons\u001b[49m\u001b[43m(\u001b[49m\u001b[38;5;124;43m\"\u001b[39;49m\u001b[38;5;124;43m/Users/anar/Desktop/TUM/summer24/di-lab/code/continual-learning/sampled_images/coco1.json\u001b[39;49m\u001b[38;5;124;43m\"\u001b[39;49m\u001b[43m,\u001b[49m\n\u001b[1;32m      2\u001b[0m \u001b[43m                           \u001b[49m\u001b[38;5;124;43m\"\u001b[39;49m\u001b[38;5;124;43m/Users/anar/Desktop/TUM/summer24/di-lab/code/continual-learning/sampled_images/coco2.json\u001b[39;49m\u001b[38;5;124;43m\"\u001b[39;49m\u001b[43m,\u001b[49m\n\u001b[1;32m      3\u001b[0m \u001b[43m                           \u001b[49m\u001b[38;5;124;43m\"\u001b[39;49m\u001b[38;5;124;43m/Users/anar/Desktop/TUM/summer24/di-lab/code/continual-learning/test-merging\u001b[39;49m\u001b[38;5;124;43m\"\u001b[39;49m\u001b[43m)\u001b[49m\n",
      "File \u001b[0;32m~/Desktop/TUM/summer24/di-lab/code/continual-learning/utils/coco_utils.py:86\u001b[0m, in \u001b[0;36mCOCOUtils.merge_coco_jsons\u001b[0;34m(main_coco, sampled_coco, output_dir)\u001b[0m\n\u001b[1;32m     83\u001b[0m \u001b[38;5;28;01mif\u001b[39;00m output_dir \u001b[38;5;129;01mis\u001b[39;00m \u001b[38;5;28;01mNone\u001b[39;00m:\n\u001b[1;32m     84\u001b[0m     output_dir \u001b[38;5;241m=\u001b[39m os\u001b[38;5;241m.\u001b[39mgetcwd()\n\u001b[0;32m---> 86\u001b[0m coco1 \u001b[38;5;241m=\u001b[39m \u001b[43mCOCO\u001b[49m\u001b[43m(\u001b[49m\u001b[43mmain_coco\u001b[49m\u001b[43m)\u001b[49m\n\u001b[1;32m     87\u001b[0m coco2 \u001b[38;5;241m=\u001b[39m COCO(sampled_coco)\n\u001b[1;32m     89\u001b[0m \u001b[38;5;66;03m# Find the maximum IDs used in the first JSON file\u001b[39;00m\n",
      "File \u001b[0;32m~/anaconda3/envs/zeiss-cont/lib/python3.12/site-packages/pycocotools/coco.py:81\u001b[0m, in \u001b[0;36mCOCO.__init__\u001b[0;34m(self, annotation_file)\u001b[0m\n\u001b[1;32m     79\u001b[0m \u001b[38;5;28mprint\u001b[39m(\u001b[38;5;124m'\u001b[39m\u001b[38;5;124mloading annotations into memory...\u001b[39m\u001b[38;5;124m'\u001b[39m)\n\u001b[1;32m     80\u001b[0m tic \u001b[38;5;241m=\u001b[39m time\u001b[38;5;241m.\u001b[39mtime()\n\u001b[0;32m---> 81\u001b[0m \u001b[38;5;28;01mwith\u001b[39;00m \u001b[38;5;28;43mopen\u001b[39;49m\u001b[43m(\u001b[49m\u001b[43mannotation_file\u001b[49m\u001b[43m,\u001b[49m\u001b[43m \u001b[49m\u001b[38;5;124;43m'\u001b[39;49m\u001b[38;5;124;43mr\u001b[39;49m\u001b[38;5;124;43m'\u001b[39;49m\u001b[43m)\u001b[49m \u001b[38;5;28;01mas\u001b[39;00m f:\n\u001b[1;32m     82\u001b[0m     dataset \u001b[38;5;241m=\u001b[39m json\u001b[38;5;241m.\u001b[39mload(f)\n\u001b[1;32m     83\u001b[0m \u001b[38;5;28;01massert\u001b[39;00m \u001b[38;5;28mtype\u001b[39m(dataset)\u001b[38;5;241m==\u001b[39m\u001b[38;5;28mdict\u001b[39m, \u001b[38;5;124m'\u001b[39m\u001b[38;5;124mannotation file format \u001b[39m\u001b[38;5;132;01m{}\u001b[39;00m\u001b[38;5;124m not supported\u001b[39m\u001b[38;5;124m'\u001b[39m\u001b[38;5;241m.\u001b[39mformat(\u001b[38;5;28mtype\u001b[39m(dataset))\n",
      "\u001b[0;31mFileNotFoundError\u001b[0m: [Errno 2] No such file or directory: '/Users/anar/Desktop/TUM/summer24/di-lab/code/continual-learning/sampled_images/coco1.json'"
     ]
    }
   ],
   "source": [
    "COCOUtils.merge_coco_jsons(\"/Users/anar/Desktop/TUM/summer24/di-lab/code/continual-learning/sampled_images/coco1.json\",\n",
    "                           \"/Users/anar/Desktop/TUM/summer24/di-lab/code/continual-learning/sampled_images/coco2.json\",\n",
    "                           \"/Users/anar/Desktop/TUM/summer24/di-lab/code/continual-learning/test-merging\")"
   ]
  },
  {
   "cell_type": "code",
   "execution_count": 20,
   "metadata": {},
   "outputs": [],
   "source": [
    "with open(\"/Users/anar/Desktop/TUM/summer24/di-lab/code/continual-learning/test-merging/merged_coco.json\", \"r\") as file:\n",
    "    data1 = json.load(file)"
   ]
  },
  {
   "cell_type": "code",
   "execution_count": 36,
   "metadata": {},
   "outputs": [
    {
     "data": {
      "text/plain": [
       "[1, 1]"
      ]
     },
     "execution_count": 36,
     "metadata": {},
     "output_type": "execute_result"
    }
   ],
   "source": [
    "[1]+[1]"
   ]
  },
  {
   "cell_type": "code",
   "execution_count": 21,
   "metadata": {},
   "outputs": [
    {
     "data": {
      "text/plain": [
       "[{'id': 3, 'name': 'Eye Retractors'},\n",
       " {'id': 8, 'name': 'Hydro. Cannula'},\n",
       " {'id': 9, 'name': 'Visco. Cannula'},\n",
       " {'id': 10, 'name': 'Cap. Cystotome'},\n",
       " {'id': 11, 'name': 'Rycroft Cannula'},\n",
       " {'id': 12, 'name': 'Bonn Forceps'},\n",
       " {'id': 13, 'name': 'Primary Knife'},\n",
       " {'id': 14, 'name': 'Phaco. Handpiece'},\n",
       " {'id': 15, 'name': 'Lens Injector'},\n",
       " {'id': 16, 'name': 'A/I Handpiece'},\n",
       " {'id': 17, 'name': 'Secondary Knife'},\n",
       " {'id': 18, 'name': 'Micromanipulator'},\n",
       " {'id': 20, 'name': 'Cap. Forceps'},\n",
       " {'id': 26, 'name': 'Water Sprayer'},\n",
       " {'id': 27, 'name': 'Suture Needle'},\n",
       " {'id': 28, 'name': 'Needle Holder'},\n",
       " {'id': 29, 'name': 'Charleux Cannula'},\n",
       " {'id': 30, 'name': 'Vannas Scissors'},\n",
       " {'id': 32, 'name': 'Viter. Handpiece'},\n",
       " {'id': 33, 'name': 'Mendez Ring'},\n",
       " {'id': 34, 'name': 'Biomarker'},\n",
       " {'id': 35, 'name': 'Marker'}]"
      ]
     },
     "execution_count": 21,
     "metadata": {},
     "output_type": "execute_result"
    }
   ],
   "source": [
    "data1[\"categories\"]"
   ]
  },
  {
   "cell_type": "code",
   "execution_count": 26,
   "metadata": {},
   "outputs": [
    {
     "data": {
      "text/plain": [
       "[{'id': 3, 'name': 'Eye Retractors'},\n",
       " {'id': 8, 'name': 'Hydro. Cannula'},\n",
       " {'id': 9, 'name': 'Visco. Cannula'},\n",
       " {'id': 10, 'name': 'Cap. Cystotome'},\n",
       " {'id': 11, 'name': 'Rycroft Cannula'},\n",
       " {'id': 12, 'name': 'Bonn Forceps'},\n",
       " {'id': 13, 'name': 'Primary Knife'},\n",
       " {'id': 14, 'name': 'Phaco. Handpiece'},\n",
       " {'id': 15, 'name': 'Lens Injector'},\n",
       " {'id': 16, 'name': 'A/I Handpiece'},\n",
       " {'id': 17, 'name': 'Secondary Knife'},\n",
       " {'id': 18, 'name': 'Micromanipulator'},\n",
       " {'id': 20, 'name': 'Cap. Forceps'},\n",
       " {'id': 26, 'name': 'Water Sprayer'},\n",
       " {'id': 27, 'name': 'Suture Needle'},\n",
       " {'id': 28, 'name': 'Needle Holder'},\n",
       " {'id': 29, 'name': 'Charleux Cannula'},\n",
       " {'id': 30, 'name': 'Vannas Scissors'},\n",
       " {'id': 32, 'name': 'Viter. Handpiece'},\n",
       " {'id': 33, 'name': 'Mendez Ring'},\n",
       " {'id': 34, 'name': 'Biomarker'},\n",
       " {'id': 35, 'name': 'Marker'}]"
      ]
     },
     "execution_count": 26,
     "metadata": {},
     "output_type": "execute_result"
    }
   ],
   "source": [
    "data[\"categories\"]"
   ]
  },
  {
   "cell_type": "code",
   "execution_count": 37,
   "metadata": {},
   "outputs": [
    {
     "data": {
      "text/plain": [
       "18"
      ]
     },
     "execution_count": 37,
     "metadata": {},
     "output_type": "execute_result"
    }
   ],
   "source": [
    "data[\"annotations\"][0][\"category_id\"]"
   ]
  },
  {
   "cell_type": "code",
   "execution_count": 16,
   "metadata": {},
   "outputs": [
    {
     "data": {
      "text/plain": [
       "[{'url': 'http://creativecommons.org/licenses/by/2.0/',\n",
       "  'id': 1,\n",
       "  'name': 'Attribution License'}]"
      ]
     },
     "execution_count": 16,
     "metadata": {},
     "output_type": "execute_result"
    }
   ],
   "source": [
    "data[\"licenses\"]"
   ]
  },
  {
   "cell_type": "code",
   "execution_count": 21,
   "metadata": {},
   "outputs": [
    {
     "data": {
      "text/plain": [
       "[{'url': 'http://creativecommons.org/licenses/by/2.0/',\n",
       "  'id': 1,\n",
       "  'name': 'Attribution License'}]"
      ]
     },
     "execution_count": 21,
     "metadata": {},
     "output_type": "execute_result"
    }
   ],
   "source": [
    "data1[\"licenses\"]"
   ]
  },
  {
   "cell_type": "code",
   "execution_count": 31,
   "metadata": {},
   "outputs": [
    {
     "data": {
      "text/plain": [
       "[{'id': 3, 'name': 'Eye Retractors'},\n",
       " {'id': 8, 'name': 'Hydro. Cannula'},\n",
       " {'id': 9, 'name': 'Visco. Cannula'},\n",
       " {'id': 10, 'name': 'Cap. Cystotome'},\n",
       " {'id': 11, 'name': 'Rycroft Cannula'},\n",
       " {'id': 12, 'name': 'Bonn Forceps'},\n",
       " {'id': 13, 'name': 'Primary Knife'},\n",
       " {'id': 14, 'name': 'Phaco. Handpiece'},\n",
       " {'id': 15, 'name': 'Lens Injector'},\n",
       " {'id': 16, 'name': 'A/I Handpiece'},\n",
       " {'id': 17, 'name': 'Secondary Knife'},\n",
       " {'id': 18, 'name': 'Micromanipulator'},\n",
       " {'id': 20, 'name': 'Cap. Forceps'},\n",
       " {'id': 26, 'name': 'Water Sprayer'},\n",
       " {'id': 27, 'name': 'Suture Needle'},\n",
       " {'id': 28, 'name': 'Needle Holder'},\n",
       " {'id': 29, 'name': 'Charleux Cannula'},\n",
       " {'id': 30, 'name': 'Vannas Scissors'},\n",
       " {'id': 32, 'name': 'Viter. Handpiece'},\n",
       " {'id': 33, 'name': 'Mendez Ring'},\n",
       " {'id': 34, 'name': 'Biomarker'},\n",
       " {'id': 35, 'name': 'Marker'}]"
      ]
     },
     "execution_count": 31,
     "metadata": {},
     "output_type": "execute_result"
    }
   ],
   "source": [
    "data1[\"categories\"]"
   ]
  },
  {
   "cell_type": "code",
   "execution_count": 15,
   "metadata": {},
   "outputs": [
    {
     "name": "stdout",
     "output_type": "stream",
     "text": [
      "6920\n",
      "3584\n"
     ]
    }
   ],
   "source": [
    "print(len(data[\"annotations\"]))\n",
    "print(len(data[\"images\"]))"
   ]
  },
  {
   "cell_type": "code",
   "execution_count": 2,
   "metadata": {},
   "outputs": [],
   "source": [
    "from pycocotools.coco import COCO\n",
    "import random"
   ]
  },
  {
   "cell_type": "code",
   "execution_count": 3,
   "metadata": {},
   "outputs": [
    {
     "name": "stdout",
     "output_type": "stream",
     "text": [
      "loading annotations into memory...\n",
      "Done (t=0.17s)\n",
      "creating index...\n",
      "index created!\n"
     ]
    }
   ],
   "source": [
    "coco_annotation_file = './data/cadis/training.json'\n",
    "coco = COCO(coco_annotation_file)"
   ]
  },
  {
   "cell_type": "code",
   "execution_count": 41,
   "metadata": {},
   "outputs": [
    {
     "name": "stdout",
     "output_type": "stream",
     "text": [
      "Sampled image file path: Video9_frame010680.png\n",
      "Sampled image file path: Video13_frame000630.png\n",
      "Sampled image file path: Video20_frame016010.png\n",
      "Sampled image file path: Video17_frame000510.png\n",
      "Sampled image file path: Video15_frame003960.png\n",
      "Sampled image file path: Video3_frame003540.png\n",
      "Sampled image file path: Video11_frame007720.png\n",
      "Sampled image file path: Video13_frame008140.png\n",
      "Sampled image file path: Video17_frame009720.png\n",
      "Sampled image file path: Video25_frame007830.png\n"
     ]
    }
   ],
   "source": [
    "# Get all image IDs from the dataset\n",
    "image_ids = coco.getImgIds()\n",
    "\n",
    "# Set the number of images you want to sample\n",
    "num_images_to_sample = 10\n",
    "\n",
    "# Randomly select image IDs\n",
    "sampled_image_ids = random.sample(image_ids, num_images_to_sample)\n",
    "\n",
    "# Retrieve image file paths or URLs\n",
    "for image_id in sampled_image_ids:\n",
    "    image_info = coco.loadImgs(image_id)[0]\n",
    "    image_file_path = image_info['file_name']  # Or 'coco_url' for URLs\n",
    "    print(\"Sampled image file path:\", image_file_path)"
   ]
  },
  {
   "cell_type": "code",
   "execution_count": 43,
   "metadata": {},
   "outputs": [],
   "source": [
    "filtered_annotations = []\n",
    "filtered_images = []\n",
    "for image_id in sampled_image_ids:\n",
    "    # Get annotations for the image\n",
    "    annotations_ids = coco.getAnnIds(imgIds=image_id)\n",
    "    annotations = coco.loadAnns(annotations_ids)\n",
    "    filtered_annotations.extend(annotations)\n",
    "    \n",
    "    # Get image information\n",
    "    image_info = coco.loadImgs(image_id)[0]\n",
    "    filtered_images.append(image_info)\n",
    "\n",
    "    original_image_path = os.path.join('data', 'cadis','training', image_info['file_name'])\n",
    "    image_path = os.path.join('sampled_images', image_info['file_name'])\n",
    "    shutil.copy(original_image_path, image_path)\n",
    "\n",
    "# Create a new COCO-style JSON object containing only the filtered information\n",
    "filtered_coco_data = {\n",
    "    \"info\": coco.dataset[\"info\"],\n",
    "    \"licenses\": coco.dataset[\"licenses\"],\n",
    "    \"images\": filtered_images,\n",
    "    \"annotations\": filtered_annotations,\n",
    "    \"categories\": coco.dataset[\"categories\"]\n",
    "}\n",
    "\n",
    "# Save the filtered COCO-style JSON object to a new file\n",
    "filtered_coco_annotation_file = 'sampled_images/sampled-coco.json'\n",
    "with open(filtered_coco_annotation_file, 'w') as f:\n",
    "    json.dump(filtered_coco_data, f)"
   ]
  },
  {
   "cell_type": "code",
   "execution_count": 1,
   "metadata": {},
   "outputs": [],
   "source": [
    "from utils.sampler import COCOSampler"
   ]
  },
  {
   "cell_type": "code",
   "execution_count": 4,
   "metadata": {},
   "outputs": [
    {
     "name": "stdout",
     "output_type": "stream",
     "text": [
      "loading annotations into memory...\n",
      "Done (t=0.21s)\n",
      "creating index...\n",
      "index created!\n",
      "Total size of sampled images: 0.5904836654663086 MB\n",
      "Number of sampled images: 1\n"
     ]
    }
   ],
   "source": [
    "# Initialize COCOSampler with the original annotation file and output directory\n",
    "original_annotation_file = 'data/cadis/training.json'\n",
    "output_directory = 'sampled_images'\n",
    "sampler = COCOSampler(original_annotation_file, output_directory)\n",
    "\n",
    "# Specify the number of samples you want to randomly select\n",
    "target_size_mb = 1  # Example target size in MB\n",
    "\n",
    "# Call the random_sample method to perform random sampling\n",
    "sampler.random_sample(target_size_mb)"
   ]
  }
 ],
 "metadata": {
  "kernelspec": {
   "display_name": "Python 3 (ipykernel)",
   "language": "python",
   "name": "python3"
  },
  "language_info": {
   "codemirror_mode": {
    "name": "ipython",
    "version": 3
   },
   "file_extension": ".py",
   "mimetype": "text/x-python",
   "name": "python",
   "nbconvert_exporter": "python",
   "pygments_lexer": "ipython3",
   "version": "3.9.16"
  }
 },
 "nbformat": 4,
 "nbformat_minor": 4
}

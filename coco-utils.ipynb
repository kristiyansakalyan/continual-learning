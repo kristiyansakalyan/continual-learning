{
 "cells": [
  {
   "cell_type": "code",
   "execution_count": 4,
   "metadata": {},
   "outputs": [],
   "source": [
    "%load_ext autoreload\n",
    "%autoreload 2"
   ]
  },
  {
   "cell_type": "code",
   "execution_count": 1,
   "metadata": {},
   "outputs": [],
   "source": [
    "from utils.sampler import COCOUtils"
   ]
  },
  {
   "cell_type": "code",
   "execution_count": 6,
   "metadata": {},
   "outputs": [
    {
     "name": "stdout",
     "output_type": "stream",
     "text": [
      "loading annotations into memory...\n",
      "Done (t=0.19s)\n",
      "creating index...\n",
      "index created!\n",
      "Total size of sampled images: 9.792987823486328 MB\n",
      "Number of sampled images: 16\n"
     ]
    }
   ],
   "source": [
    "original_annotation_file = 'data/cadis/training.json'\n",
    "output_directory = 'sampled_images'\n",
    "sampler = COCOUtils(original_annotation_file, output_directory)\n",
    "\n",
    "target_size_mb = 10  # Example target size in MB\n",
    "\n",
    "# Call the random_sample method to perform random sampling\n",
    "sampler.random_sample(target_size_mb, \"data/cadis/training\")"
   ]
  },
  {
   "cell_type": "code",
   "execution_count": null,
   "metadata": {},
   "outputs": [],
   "source": []
  },
  {
   "cell_type": "code",
   "execution_count": 2,
   "metadata": {},
   "outputs": [],
   "source": [
    "import json\n",
    "import os\n",
    "import shutil"
   ]
  },
  {
   "cell_type": "code",
   "execution_count": 1,
   "metadata": {},
   "outputs": [
    {
     "ename": "NameError",
     "evalue": "name 'json' is not defined",
     "output_type": "error",
     "traceback": [
      "\u001b[0;31m---------------------------------------------------------------------------\u001b[0m",
      "\u001b[0;31mNameError\u001b[0m                                 Traceback (most recent call last)",
      "Cell \u001b[0;32mIn[1], line 2\u001b[0m\n\u001b[1;32m      1\u001b[0m \u001b[38;5;28;01mwith\u001b[39;00m \u001b[38;5;28mopen\u001b[39m(\u001b[38;5;124m\"\u001b[39m\u001b[38;5;124m./data/cadis/validation.json\u001b[39m\u001b[38;5;124m\"\u001b[39m, \u001b[38;5;124m\"\u001b[39m\u001b[38;5;124mr\u001b[39m\u001b[38;5;124m\"\u001b[39m) \u001b[38;5;28;01mas\u001b[39;00m file:\n\u001b[0;32m----> 2\u001b[0m     data \u001b[38;5;241m=\u001b[39m \u001b[43mjson\u001b[49m\u001b[38;5;241m.\u001b[39mload(file)\n",
      "\u001b[0;31mNameError\u001b[0m: name 'json' is not defined"
     ]
    }
   ],
   "source": [
    "with open(\"./data/cadis/validation.json\", \"r\") as file:\n",
    "    data = json.load(file)"
   ]
  },
  {
   "cell_type": "code",
   "execution_count": 19,
   "metadata": {},
   "outputs": [
    {
     "name": "stdout",
     "output_type": "stream",
     "text": [
      "loading annotations into memory...\n",
      "Done (t=0.00s)\n",
      "creating index...\n",
      "index created!\n",
      "loading annotations into memory...\n",
      "Done (t=0.00s)\n",
      "creating index...\n",
      "index created!\n"
     ]
    },
    {
     "data": {
      "text/plain": [
       "'/Users/anar/Desktop/TUM/summer24/di-lab/code/continual-learning/test-merging/merged_coco.json'"
      ]
     },
     "execution_count": 19,
     "metadata": {},
     "output_type": "execute_result"
    }
   ],
   "source": [
    "COCOUtils.merge_coco_jsons(\"/Users/anar/Desktop/TUM/summer24/di-lab/code/continual-learning/sampled_images/coco1.json\",\n",
    "                           \"/Users/anar/Desktop/TUM/summer24/di-lab/code/continual-learning/sampled_images/coco2.json\",\n",
    "                           \"/Users/anar/Desktop/TUM/summer24/di-lab/code/continual-learning/test-merging\")"
   ]
  },
  {
   "cell_type": "code",
   "execution_count": 20,
   "metadata": {},
   "outputs": [],
   "source": [
    "with open(\"/Users/anar/Desktop/TUM/summer24/di-lab/code/continual-learning/test-merging/merged_coco.json\", \"r\") as file:\n",
    "    data1 = json.load(file)"
   ]
  },
  {
   "cell_type": "code",
   "execution_count": 36,
   "metadata": {},
   "outputs": [
    {
     "data": {
      "text/plain": [
       "[1, 1]"
      ]
     },
     "execution_count": 36,
     "metadata": {},
     "output_type": "execute_result"
    }
   ],
   "source": [
    "[1]+[1]"
   ]
  },
  {
   "cell_type": "code",
   "execution_count": 21,
   "metadata": {},
   "outputs": [
    {
     "data": {
      "text/plain": [
       "[{'id': 3, 'name': 'Eye Retractors'},\n",
       " {'id': 8, 'name': 'Hydro. Cannula'},\n",
       " {'id': 9, 'name': 'Visco. Cannula'},\n",
       " {'id': 10, 'name': 'Cap. Cystotome'},\n",
       " {'id': 11, 'name': 'Rycroft Cannula'},\n",
       " {'id': 12, 'name': 'Bonn Forceps'},\n",
       " {'id': 13, 'name': 'Primary Knife'},\n",
       " {'id': 14, 'name': 'Phaco. Handpiece'},\n",
       " {'id': 15, 'name': 'Lens Injector'},\n",
       " {'id': 16, 'name': 'A/I Handpiece'},\n",
       " {'id': 17, 'name': 'Secondary Knife'},\n",
       " {'id': 18, 'name': 'Micromanipulator'},\n",
       " {'id': 20, 'name': 'Cap. Forceps'},\n",
       " {'id': 26, 'name': 'Water Sprayer'},\n",
       " {'id': 27, 'name': 'Suture Needle'},\n",
       " {'id': 28, 'name': 'Needle Holder'},\n",
       " {'id': 29, 'name': 'Charleux Cannula'},\n",
       " {'id': 30, 'name': 'Vannas Scissors'},\n",
       " {'id': 32, 'name': 'Viter. Handpiece'},\n",
       " {'id': 33, 'name': 'Mendez Ring'},\n",
       " {'id': 34, 'name': 'Biomarker'},\n",
       " {'id': 35, 'name': 'Marker'}]"
      ]
     },
     "execution_count": 21,
     "metadata": {},
     "output_type": "execute_result"
    }
   ],
   "source": [
    "data1[\"categories\"]"
   ]
  },
  {
   "cell_type": "code",
   "execution_count": 26,
   "metadata": {},
   "outputs": [
    {
     "data": {
      "text/plain": [
       "[{'id': 3, 'name': 'Eye Retractors'},\n",
       " {'id': 8, 'name': 'Hydro. Cannula'},\n",
       " {'id': 9, 'name': 'Visco. Cannula'},\n",
       " {'id': 10, 'name': 'Cap. Cystotome'},\n",
       " {'id': 11, 'name': 'Rycroft Cannula'},\n",
       " {'id': 12, 'name': 'Bonn Forceps'},\n",
       " {'id': 13, 'name': 'Primary Knife'},\n",
       " {'id': 14, 'name': 'Phaco. Handpiece'},\n",
       " {'id': 15, 'name': 'Lens Injector'},\n",
       " {'id': 16, 'name': 'A/I Handpiece'},\n",
       " {'id': 17, 'name': 'Secondary Knife'},\n",
       " {'id': 18, 'name': 'Micromanipulator'},\n",
       " {'id': 20, 'name': 'Cap. Forceps'},\n",
       " {'id': 26, 'name': 'Water Sprayer'},\n",
       " {'id': 27, 'name': 'Suture Needle'},\n",
       " {'id': 28, 'name': 'Needle Holder'},\n",
       " {'id': 29, 'name': 'Charleux Cannula'},\n",
       " {'id': 30, 'name': 'Vannas Scissors'},\n",
       " {'id': 32, 'name': 'Viter. Handpiece'},\n",
       " {'id': 33, 'name': 'Mendez Ring'},\n",
       " {'id': 34, 'name': 'Biomarker'},\n",
       " {'id': 35, 'name': 'Marker'}]"
      ]
     },
     "execution_count": 26,
     "metadata": {},
     "output_type": "execute_result"
    }
   ],
   "source": [
    "data[\"categories\"]"
   ]
  },
  {
   "cell_type": "code",
   "execution_count": 37,
   "metadata": {},
   "outputs": [
    {
     "data": {
      "text/plain": [
       "18"
      ]
     },
     "execution_count": 37,
     "metadata": {},
     "output_type": "execute_result"
    }
   ],
   "source": [
    "data[\"annotations\"][0][\"category_id\"]"
   ]
  },
  {
   "cell_type": "code",
   "execution_count": 16,
   "metadata": {},
   "outputs": [
    {
     "data": {
      "text/plain": [
       "[{'url': 'http://creativecommons.org/licenses/by/2.0/',\n",
       "  'id': 1,\n",
       "  'name': 'Attribution License'}]"
      ]
     },
     "execution_count": 16,
     "metadata": {},
     "output_type": "execute_result"
    }
   ],
   "source": [
    "data[\"licenses\"]"
   ]
  },
  {
   "cell_type": "code",
   "execution_count": 21,
   "metadata": {},
   "outputs": [
    {
     "data": {
      "text/plain": [
       "[{'url': 'http://creativecommons.org/licenses/by/2.0/',\n",
       "  'id': 1,\n",
       "  'name': 'Attribution License'}]"
      ]
     },
     "execution_count": 21,
     "metadata": {},
     "output_type": "execute_result"
    }
   ],
   "source": [
    "data1[\"licenses\"]"
   ]
  },
  {
   "cell_type": "code",
   "execution_count": 31,
   "metadata": {},
   "outputs": [
    {
     "data": {
      "text/plain": [
       "[{'id': 3, 'name': 'Eye Retractors'},\n",
       " {'id': 8, 'name': 'Hydro. Cannula'},\n",
       " {'id': 9, 'name': 'Visco. Cannula'},\n",
       " {'id': 10, 'name': 'Cap. Cystotome'},\n",
       " {'id': 11, 'name': 'Rycroft Cannula'},\n",
       " {'id': 12, 'name': 'Bonn Forceps'},\n",
       " {'id': 13, 'name': 'Primary Knife'},\n",
       " {'id': 14, 'name': 'Phaco. Handpiece'},\n",
       " {'id': 15, 'name': 'Lens Injector'},\n",
       " {'id': 16, 'name': 'A/I Handpiece'},\n",
       " {'id': 17, 'name': 'Secondary Knife'},\n",
       " {'id': 18, 'name': 'Micromanipulator'},\n",
       " {'id': 20, 'name': 'Cap. Forceps'},\n",
       " {'id': 26, 'name': 'Water Sprayer'},\n",
       " {'id': 27, 'name': 'Suture Needle'},\n",
       " {'id': 28, 'name': 'Needle Holder'},\n",
       " {'id': 29, 'name': 'Charleux Cannula'},\n",
       " {'id': 30, 'name': 'Vannas Scissors'},\n",
       " {'id': 32, 'name': 'Viter. Handpiece'},\n",
       " {'id': 33, 'name': 'Mendez Ring'},\n",
       " {'id': 34, 'name': 'Biomarker'},\n",
       " {'id': 35, 'name': 'Marker'}]"
      ]
     },
     "execution_count": 31,
     "metadata": {},
     "output_type": "execute_result"
    }
   ],
   "source": [
    "data1[\"categories\"]"
   ]
  },
  {
   "cell_type": "code",
   "execution_count": 15,
   "metadata": {},
   "outputs": [
    {
     "name": "stdout",
     "output_type": "stream",
     "text": [
      "6920\n",
      "3584\n"
     ]
    }
   ],
   "source": [
    "print(len(data[\"annotations\"]))\n",
    "print(len(data[\"images\"]))"
   ]
  },
  {
   "cell_type": "code",
   "execution_count": 2,
   "metadata": {},
   "outputs": [],
   "source": [
    "from pycocotools.coco import COCO\n",
    "import random"
   ]
  },
  {
   "cell_type": "code",
   "execution_count": 3,
   "metadata": {},
   "outputs": [
    {
     "name": "stdout",
     "output_type": "stream",
     "text": [
      "loading annotations into memory...\n",
      "Done (t=0.17s)\n",
      "creating index...\n",
      "index created!\n"
     ]
    }
   ],
   "source": [
    "coco_annotation_file = './data/cadis/training.json'\n",
    "coco = COCO(coco_annotation_file)"
   ]
  },
  {
   "cell_type": "code",
   "execution_count": 41,
   "metadata": {},
   "outputs": [
    {
     "name": "stdout",
     "output_type": "stream",
     "text": [
      "Sampled image file path: Video9_frame010680.png\n",
      "Sampled image file path: Video13_frame000630.png\n",
      "Sampled image file path: Video20_frame016010.png\n",
      "Sampled image file path: Video17_frame000510.png\n",
      "Sampled image file path: Video15_frame003960.png\n",
      "Sampled image file path: Video3_frame003540.png\n",
      "Sampled image file path: Video11_frame007720.png\n",
      "Sampled image file path: Video13_frame008140.png\n",
      "Sampled image file path: Video17_frame009720.png\n",
      "Sampled image file path: Video25_frame007830.png\n"
     ]
    }
   ],
   "source": [
    "# Get all image IDs from the dataset\n",
    "image_ids = coco.getImgIds()\n",
    "\n",
    "# Set the number of images you want to sample\n",
    "num_images_to_sample = 10\n",
    "\n",
    "# Randomly select image IDs\n",
    "sampled_image_ids = random.sample(image_ids, num_images_to_sample)\n",
    "\n",
    "# Retrieve image file paths or URLs\n",
    "for image_id in sampled_image_ids:\n",
    "    image_info = coco.loadImgs(image_id)[0]\n",
    "    image_file_path = image_info['file_name']  # Or 'coco_url' for URLs\n",
    "    print(\"Sampled image file path:\", image_file_path)"
   ]
  },
  {
   "cell_type": "code",
   "execution_count": 43,
   "metadata": {},
   "outputs": [],
   "source": [
    "filtered_annotations = []\n",
    "filtered_images = []\n",
    "for image_id in sampled_image_ids:\n",
    "    # Get annotations for the image\n",
    "    annotations_ids = coco.getAnnIds(imgIds=image_id)\n",
    "    annotations = coco.loadAnns(annotations_ids)\n",
    "    filtered_annotations.extend(annotations)\n",
    "    \n",
    "    # Get image information\n",
    "    image_info = coco.loadImgs(image_id)[0]\n",
    "    filtered_images.append(image_info)\n",
    "\n",
    "    original_image_path = os.path.join('data', 'cadis','training', image_info['file_name'])\n",
    "    image_path = os.path.join('sampled_images', image_info['file_name'])\n",
    "    shutil.copy(original_image_path, image_path)\n",
    "\n",
    "# Create a new COCO-style JSON object containing only the filtered information\n",
    "filtered_coco_data = {\n",
    "    \"info\": coco.dataset[\"info\"],\n",
    "    \"licenses\": coco.dataset[\"licenses\"],\n",
    "    \"images\": filtered_images,\n",
    "    \"annotations\": filtered_annotations,\n",
    "    \"categories\": coco.dataset[\"categories\"]\n",
    "}\n",
    "\n",
    "# Save the filtered COCO-style JSON object to a new file\n",
    "filtered_coco_annotation_file = 'sampled_images/sampled-coco.json'\n",
    "with open(filtered_coco_annotation_file, 'w') as f:\n",
    "    json.dump(filtered_coco_data, f)"
   ]
  },
  {
   "cell_type": "code",
   "execution_count": 1,
   "metadata": {},
   "outputs": [],
   "source": [
    "from utils.sampler import COCOSampler"
   ]
  },
  {
   "cell_type": "code",
   "execution_count": 4,
   "metadata": {},
   "outputs": [
    {
     "name": "stdout",
     "output_type": "stream",
     "text": [
      "loading annotations into memory...\n",
      "Done (t=0.21s)\n",
      "creating index...\n",
      "index created!\n",
      "Total size of sampled images: 0.5904836654663086 MB\n",
      "Number of sampled images: 1\n"
     ]
    }
   ],
   "source": [
    "# Initialize COCOSampler with the original annotation file and output directory\n",
    "original_annotation_file = 'data/cadis/training.json'\n",
    "output_directory = 'sampled_images'\n",
    "sampler = COCOSampler(original_annotation_file, output_directory)\n",
    "\n",
    "# Specify the number of samples you want to randomly select\n",
    "target_size_mb = 1  # Example target size in MB\n",
    "\n",
    "# Call the random_sample method to perform random sampling\n",
    "sampler.random_sample(target_size_mb)"
   ]
  }
 ],
 "metadata": {
  "kernelspec": {
   "display_name": "zeiss-cont",
   "language": "python",
   "name": "python3"
  },
  "language_info": {
   "codemirror_mode": {
    "name": "ipython",
    "version": 3
   },
   "file_extension": ".py",
   "mimetype": "text/x-python",
   "name": "python",
   "nbconvert_exporter": "python",
   "pygments_lexer": "ipython3",
   "version": "3.12.3"
  }
 },
 "nbformat": 4,
 "nbformat_minor": 2
}
